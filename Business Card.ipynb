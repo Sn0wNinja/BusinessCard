{
 "cells": [
  {
   "cell_type": "code",
   "execution_count": null,
   "metadata": {},
   "outputs": [],
   "source": [
    "class BusinessCard():\n",
    "    \n",
    "    def __init__(self,firm, name, phone_num, email):\n",
    "        self.firm = firm\n",
    "        self.name = name\n",
    "        self.phone_num = phone_num\n",
    "        self.email = email\n",
    "        \n",
    "    def __str__(self):\n",
    "        return(f\"{self.firm} \\nName: {self.name} \\nPhone number: {self.phone_num} \\nEmail: {self.email}\")\n",
    "    \n",
    "    def email_change(self, emchange):\n",
    "        self.emchange = emchange\n",
    "        print(f\"{self.firm} \\nName: {self.name} \\nPhone number: {self.phone_num} \\nEmail: {self.emchange}\")\n",
    "    \n",
    "    def phone_change(self, phchange):\n",
    "        self.phchange = phchange\n",
    "        print(f\"{self.firm} \\nName: {self.name} \\nPhone number: {self.phchange} \\nEmail: {self.email}\")\n",
    "    \n",
    "    def firm_change(self, fmchange):\n",
    "        self.fmchange = fmchange\n",
    "        print(f\"{self.fmchange} \\nName: {self.name} \\nPhone number: {self.phone_num} \\nEmail: {self.email}\")\n",
    "    \n",
    "    def updated_ver(self):\n",
    "        print(f\"{self.fmchange} \\nName: {self.name} \\nPhone number: {self.phchange} \\nEmail: {self.emchange}\")"
   ]
  },
  {
   "cell_type": "code",
   "execution_count": null,
   "metadata": {},
   "outputs": [],
   "source": []
  },
  {
   "cell_type": "code",
   "execution_count": null,
   "metadata": {},
   "outputs": [],
   "source": [
    "info = BusinessCard(\"UBS\", \"Karel Schneider\", \"+41 75 411 32 32\", \"schneider.karel@ubs.com\")"
   ]
  },
  {
   "cell_type": "code",
   "execution_count": null,
   "metadata": {},
   "outputs": [],
   "source": [
    "print(info)"
   ]
  },
  {
   "cell_type": "code",
   "execution_count": null,
   "metadata": {},
   "outputs": [],
   "source": [
    "info.firm_change(\"Suisse\")\n"
   ]
  },
  {
   "cell_type": "code",
   "execution_count": null,
   "metadata": {},
   "outputs": [],
   "source": [
    "info.email_change(\"schneider.karel@suisse.com\")"
   ]
  },
  {
   "cell_type": "code",
   "execution_count": null,
   "metadata": {},
   "outputs": [],
   "source": [
    "info.phone_change(\"+41 32 605 53 97\")"
   ]
  },
  {
   "cell_type": "code",
   "execution_count": null,
   "metadata": {},
   "outputs": [],
   "source": [
    "info.updated_ver()"
   ]
  }
 ],
 "metadata": {
  "kernelspec": {
   "display_name": "Python 3",
   "language": "python",
   "name": "python3"
  },
  "language_info": {
   "codemirror_mode": {
    "name": "ipython",
    "version": 3
   },
   "file_extension": ".py",
   "mimetype": "text/x-python",
   "name": "python",
   "nbconvert_exporter": "python",
   "pygments_lexer": "ipython3",
   "version": "3.8.3"
  }
 },
 "nbformat": 4,
 "nbformat_minor": 4
}
